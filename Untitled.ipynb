{
 "cells": [
  {
   "cell_type": "code",
   "execution_count": 87,
   "id": "39b9a487",
   "metadata": {},
   "outputs": [],
   "source": [
    "import pandas as pd\n",
    "import numpy as np\n",
    "from sklearn import model_selection, metrics, preprocessing\n",
    "import torch\n",
    "import torch.nn as nn\n",
    "import matplotlib.pyplot as plt\n",
    "from torch.utils.data import Dataset, DataLoader"
   ]
  },
  {
   "cell_type": "code",
   "execution_count": 88,
   "id": "65539761",
   "metadata": {},
   "outputs": [
    {
     "data": {
      "text/plain": [
       "device(type='mps')"
      ]
     },
     "execution_count": 88,
     "metadata": {},
     "output_type": "execute_result"
    }
   ],
   "source": [
    "device = torch.device('mps' if torch.backends.mps.is_available() else 'cpu')\n",
    "device"
   ]
  },
  {
   "cell_type": "markdown",
   "id": "868b87b0",
   "metadata": {},
   "source": [
    "# Load Data"
   ]
  },
  {
   "cell_type": "code",
   "execution_count": 89,
   "id": "e2c6b1f5",
   "metadata": {},
   "outputs": [],
   "source": [
    "def load_data(file, sep='\\t'):\n",
    "    return pd.read_csv(f'./lfm-challenge-data/{file}', delimiter=sep)"
   ]
  },
  {
   "cell_type": "code",
   "execution_count": 90,
   "id": "2ae7c7b7",
   "metadata": {},
   "outputs": [],
   "source": [
    "users = load_data('lfm-challenge.user')\n",
    "items = load_data('lfm-challenge.item')\n",
    "inter_train = load_data('lfm-challenge.inter_train')\n",
    "inter_test = load_data('lfm-challenge.inter_test')\n",
    "test_users = pd.read_csv(f'./lfm-challenge-data/test_indices.txt')['users'].values\n",
    "\n",
    "n_users = users['user_id'].values.size\n",
    "n_items = items.index.values.size"
   ]
  },
  {
   "cell_type": "code",
   "execution_count": 91,
   "id": "a30ff489",
   "metadata": {},
   "outputs": [
    {
     "name": "stdout",
     "output_type": "stream",
     "text": [
      "<class 'pandas.core.frame.DataFrame'>\n",
      "RangeIndex: 138772 entries, 0 to 138771\n",
      "Data columns (total 3 columns):\n",
      " #   Column            Non-Null Count   Dtype\n",
      "---  ------            --------------   -----\n",
      " 0   user_id           138772 non-null  int64\n",
      " 1   item_id           138772 non-null  int64\n",
      " 2   listening_events  138772 non-null  int64\n",
      "dtypes: int64(3)\n",
      "memory usage: 3.2 MB\n"
     ]
    }
   ],
   "source": [
    "inter_train.info()"
   ]
  },
  {
   "cell_type": "markdown",
   "id": "7d9c7b16",
   "metadata": {},
   "source": [
    "### Training Dataset Class Wrapper"
   ]
  },
  {
   "cell_type": "code",
   "execution_count": 92,
   "id": "4cada691",
   "metadata": {},
   "outputs": [],
   "source": [
    "class TrackDataset:\n",
    "    def __init__(self, users, items, ratings):\n",
    "        self.users = users\n",
    "        self.items = items\n",
    "        self.ratings = ratings\n",
    "        \n",
    "    def __len__(self):\n",
    "        return len(self.users)\n",
    "    \n",
    "    def __getitem__(self, item):\n",
    "        users = self.users[item]\n",
    "        items = self.items[item]\n",
    "        ratings = self.ratings[item]\n",
    "        \n",
    "        return {\n",
    "            \"users\": torch.tensor(users, dtype=torch.long),\n",
    "            \"items\": torch.tensor(items, dtype=torch.long),\n",
    "            \"ratings\": torch.tensor(ratings, dtype=torch.long)\n",
    "        }"
   ]
  },
  {
   "cell_type": "markdown",
   "id": "6b29c5fd",
   "metadata": {},
   "source": [
    "### Create the model"
   ]
  },
  {
   "cell_type": "code",
   "execution_count": 93,
   "id": "bd824b93",
   "metadata": {},
   "outputs": [],
   "source": [
    "class RecSysModel(nn.Module):\n",
    "    def __init__(self, n_users, n_items):\n",
    "        super().__init__()\n",
    "        \n",
    "        self.user_embed = nn.Embedding(n_users, 32)\n",
    "        self.item_embed = nn.Embedding(n_items, 32)\n",
    "        \n",
    "        self.out = nn.Linear(64, 1)\n",
    "        \n",
    "    def forward(self, users, items, ratings=None):\n",
    "        user_embeds = self.user_embed(users)\n",
    "        item_embeds = self.item_embed(items)\n",
    "        output = torch.cat([user_embeds, item_embeds], dim=1)\n",
    "        \n",
    "        output = self.out(output)\n",
    "        \n",
    "        return output\n",
    "        "
   ]
  },
  {
   "cell_type": "code",
   "execution_count": 94,
   "id": "753c12b5",
   "metadata": {},
   "outputs": [],
   "source": [
    "lbl_user = preprocessing.LabelEncoder()\n",
    "lbl_item = preprocessing.LabelEncoder()\n",
    "inter_train['user_id'] = lbl_user.fit_transform(inter_train['user_id'].values)\n",
    "inter_train['item_id'] = lbl_item.fit_transform(inter_train['item_id'].values)"
   ]
  },
  {
   "cell_type": "code",
   "execution_count": 95,
   "id": "b7e1d466",
   "metadata": {},
   "outputs": [],
   "source": [
    "df_train, df_valid = model_selection.train_test_split(\n",
    "    inter_train, test_size=0.1, random_state=42\n",
    ")"
   ]
  },
  {
   "cell_type": "code",
   "execution_count": 96,
   "id": "dcbac8da",
   "metadata": {},
   "outputs": [],
   "source": [
    "train_dataset = TrackDataset(\n",
    "    users=df_train['user_id'].values,\n",
    "    items=df_train['item_id'].values,\n",
    "    ratings=df_train['listening_events'].values\n",
    ")\n",
    "\n",
    "valid_dataset = TrackDataset(\n",
    "    users=df_valid['user_id'].values,\n",
    "    items=df_valid['item_id'].values,\n",
    "    ratings=df_valid['listening_events'].values\n",
    ")"
   ]
  },
  {
   "cell_type": "code",
   "execution_count": 97,
   "id": "ff67449f",
   "metadata": {},
   "outputs": [
    {
     "data": {
      "text/plain": [
       "{'users': tensor(6745), 'items': tensor(2016), 'ratings': tensor(3)}"
      ]
     },
     "execution_count": 97,
     "metadata": {},
     "output_type": "execute_result"
    }
   ],
   "source": [
    "train_dataset[2]"
   ]
  },
  {
   "cell_type": "code",
   "execution_count": 99,
   "id": "eb9c0525",
   "metadata": {},
   "outputs": [],
   "source": [
    "train_loader = DataLoader(dataset=train_dataset, batch_size=4, shuffle=True)\n",
    "validation_loader = DataLoader(dataset=valid_dataset, batch_size=4, shuffle=True)\n",
    "\n",
    "# dataiter = iter(train_loader)\n",
    "# dataloader_data = dataiter.next()\n",
    "# print(dataloader_data)"
   ]
  },
  {
   "cell_type": "code",
   "execution_count": 100,
   "id": "36f93f78",
   "metadata": {},
   "outputs": [],
   "source": [
    "model = RecSysModel(\n",
    "    n_users=len(lbl_user.classes_),\n",
    "    n_items=len(lbl_item.classes_)\n",
    ").to(device)\n",
    "\n",
    "optimizer = torch.optim.Adam(model.parameters())\n",
    "sch = torch.optim.lr_scheduler.StepLR(optimizer, step_size=3, gamma=0.7)\n",
    "\n",
    "loss_func = nn.MSELoss()"
   ]
  },
  {
   "cell_type": "markdown",
   "id": "eb483a7b",
   "metadata": {},
   "source": [
    "### Training loop"
   ]
  },
  {
   "cell_type": "code",
   "execution_count": null,
   "id": "33dd82af",
   "metadata": {},
   "outputs": [],
   "source": [
    "epochs = 1\n",
    "total_loss = 0\n",
    "plot_steps, print_steps = 5000, 5000\n",
    "step_cnt = 0\n",
    "all_losses_list = []\n",
    "\n",
    "model.train()\n",
    "for epoch_i in range(epochs):\n",
    "    for i, train_data in enumerate(train_loader):\n",
    "        output = model(train_data[\"users\"].to(device),\n",
    "                       train_data[\"items\"].to(device)\n",
    "                      ).to(device)\n",
    "        \n",
    "        rating = train_data[\"ratings\"].view(4, -1).to(device)\n",
    "        \n",
    "        loss = loss_func(output, rating)\n",
    "        total_loss = total_loss + loss.sum().item()\n",
    "        optimizer.zero_grad()\n",
    "        loss.backward()\n",
    "        optimizer.step()\n",
    "        \n",
    "        step_cnt = step_cnt + len(train_data[\"users\"])\n",
    "        \n",
    "        if (step_cnt % plot_steps == 0):\n",
    "            avg_loss = total_loss/(len(train_data[\"users\"]) * plot_steps)\n",
    "            print(f\"epch {epoch_i} loss at step: {step_cnt} is {avg_loss}\")\n",
    "            all_losses_list.append(avg_loss)\n",
    "            total_loss = 0"
   ]
  },
  {
   "cell_type": "code",
   "execution_count": null,
   "id": "b2162205",
   "metadata": {},
   "outputs": [],
   "source": []
  },
  {
   "cell_type": "code",
   "execution_count": null,
   "id": "8e6132a2",
   "metadata": {},
   "outputs": [],
   "source": []
  },
  {
   "cell_type": "code",
   "execution_count": 21,
   "id": "556a23d6",
   "metadata": {},
   "outputs": [
    {
     "ename": "NameError",
     "evalue": "name 'dataloader_data' is not defined",
     "output_type": "error",
     "traceback": [
      "\u001b[0;31m---------------------------------------------------------------------------\u001b[0m",
      "\u001b[0;31mNameError\u001b[0m                                 Traceback (most recent call last)",
      "Cell \u001b[0;32mIn[21], line 1\u001b[0m\n\u001b[0;32m----> 1\u001b[0m \u001b[38;5;28mprint\u001b[39m(\u001b[43mdataloader_data\u001b[49m[\u001b[38;5;124m'\u001b[39m\u001b[38;5;124musers\u001b[39m\u001b[38;5;124m'\u001b[39m])\n",
      "\u001b[0;31mNameError\u001b[0m: name 'dataloader_data' is not defined"
     ]
    }
   ],
   "source": [
    "print(dataloader_data['users'])"
   ]
  },
  {
   "cell_type": "code",
   "execution_count": null,
   "id": "3f75fe2e",
   "metadata": {},
   "outputs": [],
   "source": []
  }
 ],
 "metadata": {
  "kernelspec": {
   "display_name": "Python 3 (ipykernel)",
   "language": "python",
   "name": "python3"
  },
  "language_info": {
   "codemirror_mode": {
    "name": "ipython",
    "version": 3
   },
   "file_extension": ".py",
   "mimetype": "text/x-python",
   "name": "python",
   "nbconvert_exporter": "python",
   "pygments_lexer": "ipython3",
   "version": "3.10.5"
  }
 },
 "nbformat": 4,
 "nbformat_minor": 5
}
