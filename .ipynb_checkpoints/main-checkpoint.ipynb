{
 "cells": [
  {
   "cell_type": "code",
   "execution_count": 3,
   "id": "67ce0b14",
   "metadata": {},
   "outputs": [],
   "source": [
    "import pandas as pd\n",
    "import numpy as np\n",
    "import spotipy\n",
    "from spotipy.oauth2 import SpotifyClientCredentials\n",
    "import torch\n",
    "from torch import nn\n",
    "from torch.autograd import Variable"
   ]
  },
  {
   "cell_type": "markdown",
   "id": "f2ce00b1",
   "metadata": {},
   "source": [
    "# Load Data"
   ]
  },
  {
   "cell_type": "code",
   "execution_count": 4,
   "id": "36fd6f4a",
   "metadata": {},
   "outputs": [],
   "source": [
    "def load_data(file, sep='\\t'):\n",
    "    return pd.read_csv(f'./lfm-challenge-data/{file}', delimiter=sep)"
   ]
  },
  {
   "cell_type": "code",
   "execution_count": 5,
   "id": "7e1e09cf",
   "metadata": {},
   "outputs": [],
   "source": [
    "users = load_data('lfm-challenge.user')\n",
    "items = load_data('lfm-challenge.item')\n",
    "inter_train = load_data('lfm-challenge.inter_train')\n",
    "inter_test = load_data('lfm-challenge.inter_test')\n",
    "test_users = pd.read_csv(f'./lfm-challenge-data/test_indices.txt')['users'].values\n",
    "\n",
    "n_users = users['user_id'].values.size\n",
    "n_items = items.index.values.size"
   ]
  },
  {
   "cell_type": "markdown",
   "id": "994a2cd4",
   "metadata": {},
   "source": [
    "# Data Aggregation"
   ]
  },
  {
   "cell_type": "markdown",
   "id": "bb5e68f7",
   "metadata": {},
   "source": [
    "### Set item_id as a column"
   ]
  },
  {
   "cell_type": "code",
   "execution_count": 6,
   "id": "b8afec18",
   "metadata": {},
   "outputs": [
    {
     "data": {
      "text/html": [
       "<div>\n",
       "<style scoped>\n",
       "    .dataframe tbody tr th:only-of-type {\n",
       "        vertical-align: middle;\n",
       "    }\n",
       "\n",
       "    .dataframe tbody tr th {\n",
       "        vertical-align: top;\n",
       "    }\n",
       "\n",
       "    .dataframe thead th {\n",
       "        text-align: right;\n",
       "    }\n",
       "</style>\n",
       "<table border=\"1\" class=\"dataframe\">\n",
       "  <thead>\n",
       "    <tr style=\"text-align: right;\">\n",
       "      <th></th>\n",
       "      <th>artist</th>\n",
       "      <th>track</th>\n",
       "      <th>country</th>\n",
       "      <th>item_id</th>\n",
       "    </tr>\n",
       "  </thead>\n",
       "  <tbody>\n",
       "    <tr>\n",
       "      <th>0</th>\n",
       "      <td>Wovenwar</td>\n",
       "      <td>Confession</td>\n",
       "      <td>US</td>\n",
       "      <td>0</td>\n",
       "    </tr>\n",
       "    <tr>\n",
       "      <th>1</th>\n",
       "      <td>Mike Shinoda</td>\n",
       "      <td>Ghosts</td>\n",
       "      <td>US</td>\n",
       "      <td>1</td>\n",
       "    </tr>\n",
       "    <tr>\n",
       "      <th>2</th>\n",
       "      <td>System of a Down</td>\n",
       "      <td>Lonely Day</td>\n",
       "      <td>US</td>\n",
       "      <td>2</td>\n",
       "    </tr>\n",
       "    <tr>\n",
       "      <th>3</th>\n",
       "      <td>Three Days Grace</td>\n",
       "      <td>Painkiller</td>\n",
       "      <td>CA</td>\n",
       "      <td>3</td>\n",
       "    </tr>\n",
       "    <tr>\n",
       "      <th>4</th>\n",
       "      <td>Muse</td>\n",
       "      <td>Pressure</td>\n",
       "      <td>GB</td>\n",
       "      <td>4</td>\n",
       "    </tr>\n",
       "  </tbody>\n",
       "</table>\n",
       "</div>"
      ],
      "text/plain": [
       "             artist       track country  item_id\n",
       "0          Wovenwar  Confession      US        0\n",
       "1      Mike Shinoda      Ghosts      US        1\n",
       "2  System of a Down  Lonely Day      US        2\n",
       "3  Three Days Grace  Painkiller      CA        3\n",
       "4              Muse    Pressure      GB        4"
      ]
     },
     "execution_count": 6,
     "metadata": {},
     "output_type": "execute_result"
    }
   ],
   "source": [
    "items['item_id'] = items.index\n",
    "items.head()"
   ]
  },
  {
   "cell_type": "code",
   "execution_count": 7,
   "id": "d5f733a0",
   "metadata": {},
   "outputs": [],
   "source": [
    "# def get_artist_genre(artist_name, client_id, client_secret):\n",
    "#     # Set up spotipy with your app credentials\n",
    "#     sp = spotipy.Spotify(auth_manager=SpotifyClientCredentials(client_id=client_id, client_secret=client_secret))\n",
    "    \n",
    "#     # Search for the artist\n",
    "#     result = sp.search(artist_name, type=\"artist\")\n",
    "    \n",
    "#     # Get the first artist from the search results\n",
    "#     artist = result['artists']['items'][0]\n",
    "\n",
    "#     return artist['genres']\n",
    "\n",
    "# # Usage:\n",
    "# client_id = \"f59d90ec64ff43f4b7b17d50f0261e1b\"\n",
    "# client_secret = \"0b000f60662e4dde96424326bb66ee7e\""
   ]
  },
  {
   "cell_type": "code",
   "execution_count": 8,
   "id": "8af18f0a",
   "metadata": {},
   "outputs": [],
   "source": [
    "# def safe_get_genre(artist):\n",
    "#     try:\n",
    "#         return get_artist_genre(artist, client_id, client_secret)\n",
    "#     except:\n",
    "#         return []\n",
    "\n",
    "# items['genre'] = items['artist'].apply(safe_get_genre)\n"
   ]
  },
  {
   "cell_type": "markdown",
   "id": "0e9ea394",
   "metadata": {},
   "source": [
    "# Interaction Matrix"
   ]
  },
  {
   "cell_type": "code",
   "execution_count": 9,
   "id": "759a6626",
   "metadata": {},
   "outputs": [],
   "source": [
    "def create_interaction_matrix(users, items, inter, threshold=1, binary=False):\n",
    "    interaction_matrix = np.zeros((n_users, n_items), dtype=np.int8)\n",
    "    \n",
    "    for user in range(n_users):\n",
    "        interacted_items = inter.loc[inter['user_id'] == user, 'item_id'].values\n",
    "        rate_of_items = inter.loc[inter['user_id'] == user, 'listening_events'].values\n",
    "        \n",
    "        for item in range(interacted_items.size):\n",
    "            rating = rate_of_items[item]\n",
    "            if binary:\n",
    "                rating = 0 if rating < threshold else 1\n",
    "            \n",
    "            interaction_matrix[user, interacted_items[item]] = rating\n",
    "    \n",
    "    return interaction_matrix"
   ]
  },
  {
   "cell_type": "code",
   "execution_count": 10,
   "id": "80788d79",
   "metadata": {},
   "outputs": [],
   "source": [
    "interaction_matrix = create_interaction_matrix(users, items, inter_train, binary=True)\n",
    "test_interaction_matrix = create_interaction_matrix(users, items, inter_test, binary=True)"
   ]
  },
  {
   "cell_type": "markdown",
   "id": "12507553",
   "metadata": {},
   "source": [
    "# POP Recommender"
   ]
  },
  {
   "cell_type": "code",
   "execution_count": 6,
   "id": "3b7379ae",
   "metadata": {},
   "outputs": [],
   "source": [
    "def recTopKPop(inter_matr: np.array,\n",
    "               user: int,\n",
    "               top_k: int) -> np.array:\n",
    "    '''\n",
    "    inter_matr - np.array from the task 1;\n",
    "    user - user_id, integer;\n",
    "    top_k - expected length of the resulting list;\n",
    "\n",
    "    returns - list/array of top K popular items that the user has never seen\n",
    "              (sorted in the order of descending popularity);\n",
    "    '''\n",
    "    # TODO: YOUR IMPLEMENTATION\n",
    "    top_pop = None\n",
    "    \n",
    "    rec_items_before = np.where(inter_matr[user] == 1)[0]\n",
    "    interactions = pd.Series(np.sum(inter_matr, axis=0)).drop(rec_items_before).sort_values(ascending=False)\n",
    "    top_pop = interactions.index[:top_k].to_numpy()\n",
    "\n",
    "    return top_pop"
   ]
  },
  {
   "cell_type": "code",
   "execution_count": 7,
   "id": "e627a166",
   "metadata": {},
   "outputs": [
    {
     "name": "stdout",
     "output_type": "stream",
     "text": [
      "User 9698/9699\r"
     ]
    }
   ],
   "source": [
    "predictions = []\n",
    "\n",
    "for user in range(users['user_id'].values.size):\n",
    "    print(f'User {user}/{users_size}', end='\\r')\n",
    "    top_10 = recTopKPop(inter_matr=interaction_matrix, user=user, top_k=10)\n",
    "    predictions.append(top_10)\n",
    "\n",
    "predictions = np.array(predictions)"
   ]
  },
  {
   "cell_type": "markdown",
   "id": "81be2e2f",
   "metadata": {},
   "source": [
    "## Test Predictions"
   ]
  },
  {
   "cell_type": "code",
   "execution_count": 8,
   "id": "b3504cf3",
   "metadata": {},
   "outputs": [],
   "source": [
    "def get_ndcg_score(predictions: np.ndarray, test_interaction_matrix: np.ndarray, topK=10) -> float:\n",
    "    \"\"\"\n",
    "    predictions - np.ndarray - predictions of the recommendation algorithm for each user.\n",
    "    test_interaction_matrix - np.ndarray - test interaction matrix for each user.\n",
    "    topK - int - topK recommendations should be evaluated.\n",
    "    \n",
    "    returns - average ndcg score over all users.\n",
    "    \"\"\"\n",
    "    n_users = predictions.shape[0]\n",
    "    discounts = np.log2(np.arange(2, topK+2)) # discounts for positions 1 to topK (0-indexed)\n",
    "    ndcg_scores = np.zeros(n_users)\n",
    "\n",
    "    for user in range(n_users):\n",
    "        top_items = predictions[user]\n",
    "        relevant_items = test_interaction_matrix[user].nonzero()[0]\n",
    "        if len(relevant_items) == 0:\n",
    "            continue\n",
    "\n",
    "        # calculate DCG\n",
    "        dcg = 0\n",
    "        for i, item in enumerate(top_items):\n",
    "            if item in relevant_items:\n",
    "                dcg += 1 / discounts[i]\n",
    "\n",
    "        # calculate IDCG\n",
    "        n_relevant = min(topK, len(relevant_items))\n",
    "        idcg = np.sum(1 / discounts[:n_relevant]) # it is 1 for each relevant item in ideal case\n",
    "        \n",
    "        ndcg_scores[user] = dcg / idcg\n",
    "\n",
    "    return np.mean(ndcg_scores)\n"
   ]
  },
  {
   "cell_type": "code",
   "execution_count": 9,
   "id": "27dc59a8",
   "metadata": {},
   "outputs": [],
   "source": [
    "predictions = predictions.reshape((9699, 10))"
   ]
  },
  {
   "cell_type": "code",
   "execution_count": 10,
   "id": "643ae1a7",
   "metadata": {},
   "outputs": [
    {
     "data": {
      "text/plain": [
       "0.027628057179704013"
      ]
     },
     "execution_count": 10,
     "metadata": {},
     "output_type": "execute_result"
    }
   ],
   "source": [
    "score = get_ndcg_score(predictions, test_interaction_matrix)\n",
    "score"
   ]
  },
  {
   "cell_type": "markdown",
   "id": "ab563968",
   "metadata": {},
   "source": [
    "# POP Recommender Country"
   ]
  },
  {
   "cell_type": "code",
   "execution_count": 37,
   "id": "74f46a81",
   "metadata": {},
   "outputs": [],
   "source": [
    "def recTopKPopByCountry(inter_matr: np.array,\n",
    "               user: int,\n",
    "               top_k: int,\n",
    "               users: pd.DataFrame) -> np.array:\n",
    "    '''\n",
    "    inter_matr - np.array from the task 1;\n",
    "    user - user_id, integer;\n",
    "    top_k - expected length of the resulting list;\n",
    "    users: pandas Dataframe consisting of user information for all users, requires a \"country\" column\n",
    "\n",
    "    returns - list/array of top K popular items that the user has never seen\n",
    "              (sorted in the order of descending popularity);\n",
    "    '''\n",
    "    # TODO: YOUR IMPLEMENTATION\n",
    "    top_pop = None\n",
    "\n",
    "    rec_items_before = np.where(inter_matr[user] == 1)[0]\n",
    "    country = users.loc[users['user_id'] == user, 'country'].values[0]\n",
    "    users_from_same_country = users.loc[users['country'] == country, 'user_id'].values\n",
    "    new_inter_matr = inter_matr[users_from_same_country]\n",
    "    \n",
    "    interactions = pd.Series(np.sum(new_inter_matr, axis=0)).drop(rec_items_before).sort_values(ascending=False, kind='mergesort')\n",
    "    top_pop = interactions.index[:top_k].to_numpy()\n",
    "    \n",
    "    return top_pop"
   ]
  },
  {
   "cell_type": "code",
   "execution_count": 38,
   "id": "c6266125",
   "metadata": {},
   "outputs": [
    {
     "name": "stdout",
     "output_type": "stream",
     "text": [
      "User 9698/9699\r"
     ]
    }
   ],
   "source": [
    "predictions = []\n",
    "\n",
    "for user in range(users['user_id'].values.size):\n",
    "    print(f'User {user}/{users_size}', end='\\r')\n",
    "    top_10 = recTopKPopByCountry(inter_matr=interaction_matrix, user=user, top_k=10, users=users)\n",
    "    predictions.append(top_10)\n",
    "\n",
    "predictions = np.array(predictions)"
   ]
  },
  {
   "cell_type": "code",
   "execution_count": 40,
   "id": "b60106b0",
   "metadata": {},
   "outputs": [
    {
     "data": {
      "text/plain": [
       "(9699, 10)"
      ]
     },
     "execution_count": 40,
     "metadata": {},
     "output_type": "execute_result"
    }
   ],
   "source": [
    "predictions.shape"
   ]
  },
  {
   "cell_type": "code",
   "execution_count": 41,
   "id": "d188ca07",
   "metadata": {},
   "outputs": [
    {
     "data": {
      "text/plain": [
       "0.031679933604007816"
      ]
     },
     "execution_count": 41,
     "metadata": {},
     "output_type": "execute_result"
    }
   ],
   "source": [
    "score = get_ndcg_score(predictions, test_interaction_matrix)\n",
    "score"
   ]
  },
  {
   "cell_type": "code",
   "execution_count": null,
   "id": "e2032c09",
   "metadata": {},
   "outputs": [],
   "source": []
  },
  {
   "cell_type": "code",
   "execution_count": null,
   "id": "9fb54e54",
   "metadata": {},
   "outputs": [],
   "source": []
  },
  {
   "cell_type": "code",
   "execution_count": null,
   "id": "efe9d906",
   "metadata": {},
   "outputs": [],
   "source": []
  },
  {
   "cell_type": "code",
   "execution_count": 32,
   "id": "a08ef33d",
   "metadata": {},
   "outputs": [
    {
     "data": {
      "text/html": [
       "<div>\n",
       "<style scoped>\n",
       "    .dataframe tbody tr th:only-of-type {\n",
       "        vertical-align: middle;\n",
       "    }\n",
       "\n",
       "    .dataframe tbody tr th {\n",
       "        vertical-align: top;\n",
       "    }\n",
       "\n",
       "    .dataframe thead th {\n",
       "        text-align: right;\n",
       "    }\n",
       "</style>\n",
       "<table border=\"1\" class=\"dataframe\">\n",
       "  <thead>\n",
       "    <tr style=\"text-align: right;\">\n",
       "      <th></th>\n",
       "      <th>artist</th>\n",
       "      <th>track</th>\n",
       "      <th>country</th>\n",
       "      <th>item_id</th>\n",
       "    </tr>\n",
       "  </thead>\n",
       "  <tbody>\n",
       "    <tr>\n",
       "      <th>0</th>\n",
       "      <td>Wovenwar</td>\n",
       "      <td>Confession</td>\n",
       "      <td>US</td>\n",
       "      <td>0</td>\n",
       "    </tr>\n",
       "    <tr>\n",
       "      <th>1</th>\n",
       "      <td>Mike Shinoda</td>\n",
       "      <td>Ghosts</td>\n",
       "      <td>US</td>\n",
       "      <td>1</td>\n",
       "    </tr>\n",
       "    <tr>\n",
       "      <th>2</th>\n",
       "      <td>System of a Down</td>\n",
       "      <td>Lonely Day</td>\n",
       "      <td>US</td>\n",
       "      <td>2</td>\n",
       "    </tr>\n",
       "    <tr>\n",
       "      <th>3</th>\n",
       "      <td>Three Days Grace</td>\n",
       "      <td>Painkiller</td>\n",
       "      <td>CA</td>\n",
       "      <td>3</td>\n",
       "    </tr>\n",
       "    <tr>\n",
       "      <th>4</th>\n",
       "      <td>Muse</td>\n",
       "      <td>Pressure</td>\n",
       "      <td>GB</td>\n",
       "      <td>4</td>\n",
       "    </tr>\n",
       "    <tr>\n",
       "      <th>...</th>\n",
       "      <td>...</td>\n",
       "      <td>...</td>\n",
       "      <td>...</td>\n",
       "      <td>...</td>\n",
       "    </tr>\n",
       "    <tr>\n",
       "      <th>9995</th>\n",
       "      <td>Northstar</td>\n",
       "      <td>The Pornographer's Dream</td>\n",
       "      <td>US</td>\n",
       "      <td>9995</td>\n",
       "    </tr>\n",
       "    <tr>\n",
       "      <th>9996</th>\n",
       "      <td>The New Regime</td>\n",
       "      <td>A Way To Feel Again</td>\n",
       "      <td>US</td>\n",
       "      <td>9996</td>\n",
       "    </tr>\n",
       "    <tr>\n",
       "      <th>9997</th>\n",
       "      <td>Soda Stereo</td>\n",
       "      <td>En Remolinos (SEP7IMO DIA)</td>\n",
       "      <td>AR</td>\n",
       "      <td>9997</td>\n",
       "    </tr>\n",
       "    <tr>\n",
       "      <th>9998</th>\n",
       "      <td>Grace Lightman</td>\n",
       "      <td>An Ordinary Life</td>\n",
       "      <td>GB</td>\n",
       "      <td>9998</td>\n",
       "    </tr>\n",
       "    <tr>\n",
       "      <th>9999</th>\n",
       "      <td>Mikado</td>\n",
       "      <td>Par hasard</td>\n",
       "      <td>FR</td>\n",
       "      <td>9999</td>\n",
       "    </tr>\n",
       "  </tbody>\n",
       "</table>\n",
       "<p>10000 rows × 4 columns</p>\n",
       "</div>"
      ],
      "text/plain": [
       "                artist                       track country  item_id\n",
       "0             Wovenwar                  Confession      US        0\n",
       "1         Mike Shinoda                      Ghosts      US        1\n",
       "2     System of a Down                  Lonely Day      US        2\n",
       "3     Three Days Grace                  Painkiller      CA        3\n",
       "4                 Muse                    Pressure      GB        4\n",
       "...                ...                         ...     ...      ...\n",
       "9995         Northstar    The Pornographer's Dream      US     9995\n",
       "9996    The New Regime         A Way To Feel Again      US     9996\n",
       "9997       Soda Stereo  En Remolinos (SEP7IMO DIA)      AR     9997\n",
       "9998    Grace Lightman            An Ordinary Life      GB     9998\n",
       "9999            Mikado                  Par hasard      FR     9999\n",
       "\n",
       "[10000 rows x 4 columns]"
      ]
     },
     "execution_count": 32,
     "metadata": {},
     "output_type": "execute_result"
    }
   ],
   "source": [
    "items"
   ]
  },
  {
   "cell_type": "markdown",
   "id": "dbcdade4",
   "metadata": {},
   "source": [
    "# Neural Network"
   ]
  },
  {
   "cell_type": "code",
   "execution_count": null,
   "id": "ef3d3c98",
   "metadata": {},
   "outputs": [],
   "source": []
  },
  {
   "cell_type": "code",
   "execution_count": null,
   "id": "36e428df",
   "metadata": {},
   "outputs": [],
   "source": []
  },
  {
   "cell_type": "code",
   "execution_count": null,
   "id": "ab55ef12",
   "metadata": {},
   "outputs": [],
   "source": []
  },
  {
   "cell_type": "code",
   "execution_count": null,
   "id": "5aa72b07",
   "metadata": {},
   "outputs": [],
   "source": []
  },
  {
   "cell_type": "code",
   "execution_count": null,
   "id": "16fcc0a6",
   "metadata": {},
   "outputs": [],
   "source": []
  },
  {
   "cell_type": "code",
   "execution_count": null,
   "id": "f77c267e",
   "metadata": {},
   "outputs": [],
   "source": []
  },
  {
   "cell_type": "code",
   "execution_count": null,
   "id": "eacd1ed9",
   "metadata": {},
   "outputs": [],
   "source": []
  },
  {
   "cell_type": "code",
   "execution_count": null,
   "id": "80712a8f",
   "metadata": {},
   "outputs": [],
   "source": []
  }
 ],
 "metadata": {
  "kernelspec": {
   "display_name": "Python 3 (ipykernel)",
   "language": "python",
   "name": "python3"
  },
  "language_info": {
   "codemirror_mode": {
    "name": "ipython",
    "version": 3
   },
   "file_extension": ".py",
   "mimetype": "text/x-python",
   "name": "python",
   "nbconvert_exporter": "python",
   "pygments_lexer": "ipython3",
   "version": "3.10.5"
  }
 },
 "nbformat": 4,
 "nbformat_minor": 5
}
