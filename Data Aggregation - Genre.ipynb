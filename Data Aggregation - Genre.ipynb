{
 "cells": [
  {
   "cell_type": "code",
   "execution_count": 1,
   "id": "bcad444a",
   "metadata": {},
   "outputs": [],
   "source": [
    "import pandas as pd\n",
    "import numpy as np\n",
    "import spotipy\n",
    "from spotipy.oauth2 import SpotifyClientCredentials"
   ]
  },
  {
   "cell_type": "code",
   "execution_count": 2,
   "id": "3dcfd76a",
   "metadata": {},
   "outputs": [],
   "source": [
    "def load_data(file, sep='\\t'):\n",
    "    return pd.read_csv(f'./lfm-challenge-data/{file}', delimiter=sep)"
   ]
  },
  {
   "cell_type": "code",
   "execution_count": 3,
   "id": "6aea6629",
   "metadata": {},
   "outputs": [],
   "source": [
    "items = load_data('lfm-challenge.item')"
   ]
  },
  {
   "cell_type": "code",
   "execution_count": 4,
   "id": "2e0985ae",
   "metadata": {},
   "outputs": [
    {
     "data": {
      "text/html": [
       "<div>\n",
       "<style scoped>\n",
       "    .dataframe tbody tr th:only-of-type {\n",
       "        vertical-align: middle;\n",
       "    }\n",
       "\n",
       "    .dataframe tbody tr th {\n",
       "        vertical-align: top;\n",
       "    }\n",
       "\n",
       "    .dataframe thead th {\n",
       "        text-align: right;\n",
       "    }\n",
       "</style>\n",
       "<table border=\"1\" class=\"dataframe\">\n",
       "  <thead>\n",
       "    <tr style=\"text-align: right;\">\n",
       "      <th></th>\n",
       "      <th>artist</th>\n",
       "      <th>track</th>\n",
       "      <th>country</th>\n",
       "    </tr>\n",
       "  </thead>\n",
       "  <tbody>\n",
       "    <tr>\n",
       "      <th>0</th>\n",
       "      <td>Wovenwar</td>\n",
       "      <td>Confession</td>\n",
       "      <td>US</td>\n",
       "    </tr>\n",
       "    <tr>\n",
       "      <th>1</th>\n",
       "      <td>Mike Shinoda</td>\n",
       "      <td>Ghosts</td>\n",
       "      <td>US</td>\n",
       "    </tr>\n",
       "    <tr>\n",
       "      <th>2</th>\n",
       "      <td>System of a Down</td>\n",
       "      <td>Lonely Day</td>\n",
       "      <td>US</td>\n",
       "    </tr>\n",
       "    <tr>\n",
       "      <th>3</th>\n",
       "      <td>Three Days Grace</td>\n",
       "      <td>Painkiller</td>\n",
       "      <td>CA</td>\n",
       "    </tr>\n",
       "    <tr>\n",
       "      <th>4</th>\n",
       "      <td>Muse</td>\n",
       "      <td>Pressure</td>\n",
       "      <td>GB</td>\n",
       "    </tr>\n",
       "    <tr>\n",
       "      <th>...</th>\n",
       "      <td>...</td>\n",
       "      <td>...</td>\n",
       "      <td>...</td>\n",
       "    </tr>\n",
       "    <tr>\n",
       "      <th>9995</th>\n",
       "      <td>Northstar</td>\n",
       "      <td>The Pornographer's Dream</td>\n",
       "      <td>US</td>\n",
       "    </tr>\n",
       "    <tr>\n",
       "      <th>9996</th>\n",
       "      <td>The New Regime</td>\n",
       "      <td>A Way To Feel Again</td>\n",
       "      <td>US</td>\n",
       "    </tr>\n",
       "    <tr>\n",
       "      <th>9997</th>\n",
       "      <td>Soda Stereo</td>\n",
       "      <td>En Remolinos (SEP7IMO DIA)</td>\n",
       "      <td>AR</td>\n",
       "    </tr>\n",
       "    <tr>\n",
       "      <th>9998</th>\n",
       "      <td>Grace Lightman</td>\n",
       "      <td>An Ordinary Life</td>\n",
       "      <td>GB</td>\n",
       "    </tr>\n",
       "    <tr>\n",
       "      <th>9999</th>\n",
       "      <td>Mikado</td>\n",
       "      <td>Par hasard</td>\n",
       "      <td>FR</td>\n",
       "    </tr>\n",
       "  </tbody>\n",
       "</table>\n",
       "<p>10000 rows × 3 columns</p>\n",
       "</div>"
      ],
      "text/plain": [
       "                artist                       track country\n",
       "0             Wovenwar                  Confession      US\n",
       "1         Mike Shinoda                      Ghosts      US\n",
       "2     System of a Down                  Lonely Day      US\n",
       "3     Three Days Grace                  Painkiller      CA\n",
       "4                 Muse                    Pressure      GB\n",
       "...                ...                         ...     ...\n",
       "9995         Northstar    The Pornographer's Dream      US\n",
       "9996    The New Regime         A Way To Feel Again      US\n",
       "9997       Soda Stereo  En Remolinos (SEP7IMO DIA)      AR\n",
       "9998    Grace Lightman            An Ordinary Life      GB\n",
       "9999            Mikado                  Par hasard      FR\n",
       "\n",
       "[10000 rows x 3 columns]"
      ]
     },
     "execution_count": 4,
     "metadata": {},
     "output_type": "execute_result"
    }
   ],
   "source": [
    "items"
   ]
  },
  {
   "cell_type": "code",
   "execution_count": 5,
   "id": "e38e1f32",
   "metadata": {},
   "outputs": [],
   "source": [
    "def get_artist_genre(artist_name, client_id, client_secret):\n",
    "    # Set up spotipy with your app credentials\n",
    "    sp = spotipy.Spotify(auth_manager=SpotifyClientCredentials(client_id=client_id, client_secret=client_secret))\n",
    "    \n",
    "    # Search for the artist\n",
    "    result = sp.search(artist_name, type=\"artist\")\n",
    "    \n",
    "    # Get the first artist from the search results\n",
    "    artist = result['artists']['items'][0]\n",
    "\n",
    "    return artist['genres']\n",
    "\n",
    "# Usage:\n",
    "client_id = \"f59d90ec64ff43f4b7b17d50f0261e1b\"\n",
    "client_secret = \"0b000f60662e4dde96424326bb66ee7e\"\n",
    "\n",
    "def safe_get_genre(artist):\n",
    "    try:\n",
    "        return get_artist_genre(artist, client_id, client_secret)\n",
    "    except:\n",
    "        return []"
   ]
  },
  {
   "cell_type": "code",
   "execution_count": null,
   "id": "0c549c66",
   "metadata": {},
   "outputs": [
    {
     "name": "stdout",
     "output_type": "stream",
     "text": [
      "0/9999\r"
     ]
    }
   ],
   "source": [
    "genres = []\n",
    "\n",
    "for i in items.index:\n",
    "    print(f'{i}/9999', end='\\r')\n",
    "    artist = items.loc[i]['artist']\n",
    "    genre = items['artist'].apply(safe_get_genre)\n",
    "    genres.append(genre)"
   ]
  },
  {
   "cell_type": "code",
   "execution_count": null,
   "id": "fe7ea2b4",
   "metadata": {},
   "outputs": [],
   "source": []
  }
 ],
 "metadata": {
  "kernelspec": {
   "display_name": "Python 3 (ipykernel)",
   "language": "python",
   "name": "python3"
  },
  "language_info": {
   "codemirror_mode": {
    "name": "ipython",
    "version": 3
   },
   "file_extension": ".py",
   "mimetype": "text/x-python",
   "name": "python",
   "nbconvert_exporter": "python",
   "pygments_lexer": "ipython3",
   "version": "3.10.5"
  }
 },
 "nbformat": 4,
 "nbformat_minor": 5
}
