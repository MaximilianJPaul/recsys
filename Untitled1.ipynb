{
 "cells": [
  {
   "cell_type": "code",
   "execution_count": 60,
   "id": "0227cb58",
   "metadata": {},
   "outputs": [],
   "source": [
    "import pandas as pd\n",
    "import numpy as np\n",
    "from typing import Callable\n",
    "from sklearn.metrics.pairwise import cosine_similarity\n",
    "from scipy.sparse import csr_matrix\n",
    "from sklearn.neighbors import NearestNeighbors"
   ]
  },
  {
   "cell_type": "code",
   "execution_count": 61,
   "id": "3505aebe",
   "metadata": {},
   "outputs": [],
   "source": [
    "def load_data(file, sep='\\t'):\n",
    "    return pd.read_csv(f'./lfm-challenge-data/{file}', delimiter=sep)"
   ]
  },
  {
   "cell_type": "code",
   "execution_count": 62,
   "id": "498a1a48",
   "metadata": {},
   "outputs": [],
   "source": [
    "users = load_data('lfm-challenge.user')\n",
    "items = load_data('lfm-challenge.item')\n",
    "inter_train = load_data('lfm-challenge.inter_train')\n",
    "inter_test = load_data('lfm-challenge.inter_test')\n",
    "test_users = pd.read_csv(f'./lfm-challenge-data/test_indices.txt')['users'].values\n",
    "\n",
    "n_users = users['user_id'].values.size\n",
    "n_items = items.index.values.size"
   ]
  },
  {
   "cell_type": "code",
   "execution_count": 63,
   "id": "0f321eae",
   "metadata": {},
   "outputs": [],
   "source": [
    "def create_interaction_matrix(users, items, inter, threshold=1, binary=False):\n",
    "    interaction_matrix = np.zeros((n_users, n_items), dtype=np.int8)\n",
    "    \n",
    "    for user in range(n_users):\n",
    "        interacted_items = inter.loc[inter['user_id'] == user, 'item_id'].values\n",
    "        rate_of_items = inter.loc[inter['user_id'] == user, 'listening_events'].values\n",
    "        \n",
    "        for item in range(interacted_items.size):\n",
    "            rating = rate_of_items[item]\n",
    "            if binary:\n",
    "                rating = 0 if rating < threshold else 1\n",
    "            \n",
    "            interaction_matrix[user, interacted_items[item]] = rating\n",
    "    \n",
    "    return interaction_matrix"
   ]
  },
  {
   "cell_type": "code",
   "execution_count": 64,
   "id": "adb703f1",
   "metadata": {},
   "outputs": [],
   "source": [
    "interaction_matrix = create_interaction_matrix(users, items, inter_train, binary=True)\n",
    "test_interaction_matrix = create_interaction_matrix(users, items, inter_test, binary=True)"
   ]
  },
  {
   "cell_type": "code",
   "execution_count": 65,
   "id": "048adb9d",
   "metadata": {},
   "outputs": [],
   "source": [
    "def create_item_knn(interaction_matrix, n_neighbors=5):\n",
    "    # Convert the numpy array to a sparse matrix\n",
    "    interaction_csr = csr_matrix(interaction_matrix)\n",
    "\n",
    "    # Initialize the model\n",
    "    model_knn = NearestNeighbors(metric='cosine', algorithm='brute', n_neighbors=n_neighbors, n_jobs=-1)\n",
    "    model_knn.fit(interaction_csr.T)  # Fit the model on the transpose of the matrix (items as rows)\n",
    "\n",
    "    return model_knn"
   ]
  },
  {
   "cell_type": "code",
   "execution_count": 66,
   "id": "fc31ab78",
   "metadata": {},
   "outputs": [],
   "source": [
    "def make_recommendations(user_id, model_knn, interaction_matrix, n_recommendations=10):\n",
    "    # Get the interactions of the user\n",
    "    user_interactions = interaction_matrix[user_id]\n",
    "\n",
    "    # Get the indices of the items that the user has interacted with\n",
    "    interacted_indices = np.where(user_interactions > 0)[0]\n",
    "\n",
    "    # Get the distances and indices of the nearest items to the ones the user has interacted with\n",
    "    distances, indices = model_knn.kneighbors(interaction_matrix.T[interacted_indices], n_neighbors=n_recommendations+1)\n",
    "\n",
    "    # Flatten the distances and indices arrays\n",
    "    distances = distances.flatten()\n",
    "    indices = indices.flatten()\n",
    "\n",
    "    # Sort the indices by distances and get the top N recommendations\n",
    "    recommendations = indices[np.argsort(distances)[:n_recommendations]]\n",
    "\n",
    "    return recommendations\n"
   ]
  },
  {
   "cell_type": "code",
   "execution_count": 67,
   "id": "bb1068af",
   "metadata": {},
   "outputs": [],
   "source": [
    "model_knn = create_item_knn(interaction_matrix)"
   ]
  },
  {
   "cell_type": "code",
   "execution_count": 68,
   "id": "95dc7b58",
   "metadata": {},
   "outputs": [
    {
     "name": "stdout",
     "output_type": "stream",
     "text": [
      "99/100\r"
     ]
    }
   ],
   "source": [
    "recommendations = []\n",
    "for i, user_id in enumerate(test_users):\n",
    "    print(f\"{i}/100\", end=\"\\r\")\n",
    "    recommendations.append(make_recommendations(user_id, model_knn, interaction_matrix))"
   ]
  },
  {
   "cell_type": "code",
   "execution_count": 69,
   "id": "38f083eb",
   "metadata": {},
   "outputs": [],
   "source": [
    "def get_ndcg_score(predictions: np.ndarray, test_interaction_matrix: np.ndarray, topK=10) -> float:\n",
    "    \"\"\"\n",
    "    predictions - np.ndarray - predictions of the recommendation algorithm for each user.\n",
    "    test_interaction_matrix - np.ndarray - test interaction matrix for each user.\n",
    "    topK - int - topK recommendations should be evaluated.\n",
    "    \n",
    "    returns - average ndcg score over all users.\n",
    "    \"\"\"\n",
    "    score = None\n",
    "    \n",
    "    # TODO: YOUR IMPLEMENTATION.\n",
    "    n_users = predictions.shape[0]\n",
    "    discounts = np.log2(np.arange(2, topK+2))\n",
    "    ndcg_scores = np.zeros(n_users)\n",
    "    \n",
    "    for user in range(n_users):\n",
    "        top_items = predictions[user][:topK]\n",
    "        relevant_items = test_interaction_matrix[user].nonzero()[0]\n",
    "        relevant_top_items = np.intersect1d(top_items, relevant_items)\n",
    "        relevance = np.zeros(topK)\n",
    "        relevance[np.where(np.isin(top_items, relevant_top_items))] = 1\n",
    "        ideal_relevance = np.zeros(len(relevant_items))\n",
    "        ideal_relevance[0] = 1\n",
    "        print(ideal_relevance)\n",
    "        ideal_dcg = np.sum(ideal_relevance / discounts[:len(ideal_relevance)])\n",
    "        dcg = np.sum(relevance / discounts[:len(relevance)])\n",
    "        \n",
    "        if ideal_dcg > 0:\n",
    "            ndcg_scores[user] = dcg / ideal_dcg\n",
    "        else:\n",
    "            ndcg_scores[user] = 0\n",
    "    \n",
    "    score = np.mean(ndcg_scores)\n",
    "\n",
    "    return score"
   ]
  },
  {
   "cell_type": "code",
   "execution_count": 75,
   "id": "c3ea6af4",
   "metadata": {},
   "outputs": [],
   "source": [
    "recommendations = np.array(recommendations)"
   ]
  },
  {
   "cell_type": "code",
   "execution_count": 77,
   "id": "069a12e6",
   "metadata": {},
   "outputs": [],
   "source": [
    "def get_ndcg_score(predictions: np.ndarray, test_interaction_matrix: np.ndarray, topK=10) -> float:\n",
    "    \"\"\"\n",
    "    predictions - np.ndarray - predictions of the recommendation algorithm for each user.\n",
    "    test_interaction_matrix - np.ndarray - test interaction matrix for each user.\n",
    "    topK - int - topK recommendations should be evaluated.\n",
    "    \n",
    "    returns - average ndcg score over all users.\n",
    "    \"\"\"\n",
    "    score = None\n",
    "    \n",
    "    # TODO: YOUR IMPLEMENTATION.\n",
    "    n_users = predictions.shape[0]\n",
    "    discounts = np.log2(np.arange(2, topK+2))\n",
    "    ndcg_scores = np.zeros(n_users)\n",
    "    \n",
    "    for user in range(n_users):\n",
    "        top_items = predictions[user][:topK]\n",
    "        relevant_items = test_interaction_matrix[user].nonzero()[0]\n",
    "        relevant_top_items = np.intersect1d(top_items, relevant_items)\n",
    "        relevance = np.zeros(topK)\n",
    "        relevance[np.where(np.isin(top_items, relevant_top_items))] = 1\n",
    "        ideal_relevance = np.zeros(len(relevant_items))\n",
    "        ideal_relevance[0] = 1\n",
    "        ideal_dcg = np.sum(ideal_relevance / discounts[:len(ideal_relevance)])\n",
    "        dcg = np.sum(relevance / discounts[:len(relevance)])\n",
    "        \n",
    "        if ideal_dcg > 0:\n",
    "            ndcg_scores[user] = dcg / ideal_dcg\n",
    "        else:\n",
    "            ndcg_scores[user] = 0\n",
    "    \n",
    "    score = np.mean(ndcg_scores)\n",
    "\n",
    "    return score"
   ]
  },
  {
   "cell_type": "code",
   "execution_count": 79,
   "id": "df116a86",
   "metadata": {},
   "outputs": [
    {
     "data": {
      "text/plain": [
       "1.0"
      ]
     },
     "execution_count": 79,
     "metadata": {},
     "output_type": "execute_result"
    }
   ],
   "source": [
    "predictions = np.array([[0, 1, 2, 3], [3, 2, 1, 0]])\n",
    "test_interaction_matrix = np.array([[1, 0, 0, 0], [0, 0, 0, 1]])\n",
    "\n",
    "ndcg_score = get_ndcg_score(predictions, test_interaction_matrix, topK=4)\n",
    "ndcg_score"
   ]
  },
  {
   "cell_type": "code",
   "execution_count": null,
   "id": "cbcf33ec",
   "metadata": {},
   "outputs": [],
   "source": []
  },
  {
   "cell_type": "code",
   "execution_count": null,
   "id": "3ab45da9",
   "metadata": {},
   "outputs": [],
   "source": []
  }
 ],
 "metadata": {
  "kernelspec": {
   "display_name": "Python 3 (ipykernel)",
   "language": "python",
   "name": "python3"
  },
  "language_info": {
   "codemirror_mode": {
    "name": "ipython",
    "version": 3
   },
   "file_extension": ".py",
   "mimetype": "text/x-python",
   "name": "python",
   "nbconvert_exporter": "python",
   "pygments_lexer": "ipython3",
   "version": "3.10.5"
  }
 },
 "nbformat": 4,
 "nbformat_minor": 5
}
