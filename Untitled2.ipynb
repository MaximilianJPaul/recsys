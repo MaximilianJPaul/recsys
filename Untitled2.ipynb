{
 "cells": [
  {
   "cell_type": "code",
   "execution_count": 8,
   "id": "91c2a495",
   "metadata": {},
   "outputs": [],
   "source": [
    "import numpy as np\n",
    "import pandas as pd"
   ]
  },
  {
   "cell_type": "markdown",
   "id": "b1fd31b0",
   "metadata": {},
   "source": [
    "# Load Predictions"
   ]
  },
  {
   "cell_type": "code",
   "execution_count": 9,
   "id": "ecd864c7",
   "metadata": {},
   "outputs": [],
   "source": [
    "def load_predictions(filename):\n",
    "    file = np.load(filename)\n",
    "    return file"
   ]
  },
  {
   "cell_type": "code",
   "execution_count": 10,
   "id": "b8430f71",
   "metadata": {},
   "outputs": [
    {
     "data": {
      "text/plain": [
       "(100, 10)"
      ]
     },
     "execution_count": 10,
     "metadata": {},
     "output_type": "execute_result"
    }
   ],
   "source": [
    "pred = load_predictions(\"itemknn_rec.npy\")\n",
    "pred.shape"
   ]
  },
  {
   "cell_type": "code",
   "execution_count": 22,
   "id": "69c145b3",
   "metadata": {},
   "outputs": [
    {
     "data": {
      "text/plain": [
       "'7258,148,3432,6904,7767,970,157,1518,152,271'"
      ]
     },
     "execution_count": 22,
     "metadata": {},
     "output_type": "execute_result"
    }
   ],
   "source": [
    "','.join(list(pred[0].astype(str)))"
   ]
  },
  {
   "cell_type": "markdown",
   "id": "62089311",
   "metadata": {},
   "source": [
    "# Load Test Users"
   ]
  },
  {
   "cell_type": "code",
   "execution_count": 12,
   "id": "16dcaa48",
   "metadata": {},
   "outputs": [
    {
     "data": {
      "text/plain": [
       "array([4251, 9092, 6483, 4517, 4353, 7505, 1504, 3152, 1606, 6897, 1771,\n",
       "       4815, 4173, 7909, 3592, 6689, 8063, 1954, 8530, 9346, 2202, 8896,\n",
       "       8598, 1247, 1572, 8070, 7687, 1849, 7330, 1367, 2340, 5343, 6779,\n",
       "       5069, 5256, 2810, 8733, 7546, 6189, 7438,  900, 8155, 5282, 3762,\n",
       "       4289, 4618, 6097,  657, 7312, 2211, 6274, 8691, 6594, 3554, 4318,\n",
       "       4493, 8899, 4947, 7072, 7183, 3882, 3577, 7421,  744, 6172, 6617,\n",
       "       7970,  836, 2684,  956, 9359, 7305,  427, 8231, 6749, 4235, 8257,\n",
       "       1895, 3522,  620,  919, 4820, 9368, 4227, 3030, 7789, 6084, 6538,\n",
       "       4554, 7514, 3982, 3426, 7198, 1272, 6637, 3195,  870, 5462, 4347,\n",
       "       8060])"
      ]
     },
     "execution_count": 12,
     "metadata": {},
     "output_type": "execute_result"
    }
   ],
   "source": [
    "test_users = pd.read_csv(f'./lfm-challenge-data/test_indices.txt')['users'].values\n",
    "test_users"
   ]
  },
  {
   "cell_type": "markdown",
   "id": "270f1201",
   "metadata": {},
   "source": [
    "# Create tsv file"
   ]
  },
  {
   "cell_type": "code",
   "execution_count": 23,
   "id": "c338a2aa",
   "metadata": {},
   "outputs": [],
   "source": [
    "def create_tsv(users, predictions):\n",
    "    if predictions.shape[0] != test_users.size:\n",
    "        raise ValueError(\"Different amount of users.\")\n",
    "        \n",
    "    result = \"\"\n",
    "        \n",
    "    for i in range(users.size):\n",
    "        row = f\"{users[i]}\\t{','.join(list(predictions[i].astype(str)))}\\n\"\n",
    "        result += row\n",
    "        \n",
    "    return result"
   ]
  },
  {
   "cell_type": "code",
   "execution_count": 24,
   "id": "dcdb5cfe",
   "metadata": {},
   "outputs": [],
   "source": [
    "content = create_tsv(test_users, pred)"
   ]
  },
  {
   "cell_type": "markdown",
   "id": "b0be6514",
   "metadata": {},
   "source": [
    "# Save tsv file"
   ]
  },
  {
   "cell_type": "code",
   "execution_count": 27,
   "id": "4f31d974",
   "metadata": {},
   "outputs": [],
   "source": [
    "filename = \"rec_k11946886_Voshchepynets_Maximilian.tsv\"\n",
    "\n",
    "with open(filename, 'w') as file:\n",
    "    file.write(content)"
   ]
  },
  {
   "cell_type": "code",
   "execution_count": null,
   "id": "a4df248b",
   "metadata": {},
   "outputs": [],
   "source": []
  }
 ],
 "metadata": {
  "kernelspec": {
   "display_name": "Python 3 (ipykernel)",
   "language": "python",
   "name": "python3"
  },
  "language_info": {
   "codemirror_mode": {
    "name": "ipython",
    "version": 3
   },
   "file_extension": ".py",
   "mimetype": "text/x-python",
   "name": "python",
   "nbconvert_exporter": "python",
   "pygments_lexer": "ipython3",
   "version": "3.10.5"
  }
 },
 "nbformat": 4,
 "nbformat_minor": 5
}
